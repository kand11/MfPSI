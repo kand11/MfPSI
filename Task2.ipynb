{
  "nbformat": 4,
  "nbformat_minor": 0,
  "metadata": {
    "colab": {
      "provenance": [],
      "authorship_tag": "ABX9TyPQWwiSqIQlDB4D841POqNd",
      "include_colab_link": true
    },
    "kernelspec": {
      "name": "python3",
      "display_name": "Python 3"
    },
    "language_info": {
      "name": "python"
    }
  },
  "cells": [
    {
      "cell_type": "markdown",
      "metadata": {
        "id": "view-in-github",
        "colab_type": "text"
      },
      "source": [
        "<a href=\"https://colab.research.google.com/github/kand11/MfPSI/blob/main/Task2.ipynb\" target=\"_parent\"><img src=\"https://colab.research.google.com/assets/colab-badge.svg\" alt=\"Open In Colab\"/></a>"
      ]
    },
    {
      "cell_type": "code",
      "execution_count": 1,
      "metadata": {
        "colab": {
          "base_uri": "https://localhost:8080/"
        },
        "id": "BsFkQkofmgfY",
        "outputId": "ae8160a0-a280-4313-c626-0247d738485e"
      },
      "outputs": [
        {
          "output_type": "stream",
          "name": "stdout",
          "text": [
            "Collecting pymorphy3\n",
            "  Downloading pymorphy3-2.0.3-py3-none-any.whl.metadata (1.9 kB)\n",
            "Collecting dawg2-python>=0.8.0 (from pymorphy3)\n",
            "  Downloading dawg2_python-0.9.0-py3-none-any.whl.metadata (7.5 kB)\n",
            "Collecting pymorphy3-dicts-ru (from pymorphy3)\n",
            "  Downloading pymorphy3_dicts_ru-2.4.417150.4580142-py2.py3-none-any.whl.metadata (2.0 kB)\n",
            "Downloading pymorphy3-2.0.3-py3-none-any.whl (53 kB)\n",
            "\u001b[2K   \u001b[90m━━━━━━━━━━━━━━━━━━━━━━━━━━━━━━━━━━━━━━━━\u001b[0m \u001b[32m53.8/53.8 kB\u001b[0m \u001b[31m2.5 MB/s\u001b[0m eta \u001b[36m0:00:00\u001b[0m\n",
            "\u001b[?25hDownloading dawg2_python-0.9.0-py3-none-any.whl (9.3 kB)\n",
            "Downloading pymorphy3_dicts_ru-2.4.417150.4580142-py2.py3-none-any.whl (8.4 MB)\n",
            "\u001b[2K   \u001b[90m━━━━━━━━━━━━━━━━━━━━━━━━━━━━━━━━━━━━━━━━\u001b[0m \u001b[32m8.4/8.4 MB\u001b[0m \u001b[31m36.5 MB/s\u001b[0m eta \u001b[36m0:00:00\u001b[0m\n",
            "\u001b[?25hInstalling collected packages: pymorphy3-dicts-ru, dawg2-python, pymorphy3\n",
            "Successfully installed dawg2-python-0.9.0 pymorphy3-2.0.3 pymorphy3-dicts-ru-2.4.417150.4580142\n"
          ]
        }
      ],
      "source": [
        "pip install pymorphy3"
      ]
    },
    {
      "cell_type": "code",
      "source": [
        "import pymorphy3\n",
        "from nltk.tokenize import word_tokenize\n",
        "from nltk.corpus import stopwords\n",
        "from string import punctuation\n",
        "import nltk\n",
        "import re\n",
        "nltk.download('punkt_tab')\n",
        "nltk.download('stopwords')"
      ],
      "metadata": {
        "colab": {
          "base_uri": "https://localhost:8080/"
        },
        "id": "rUPvY3W2mrX3",
        "outputId": "2c011752-8df9-4a03-ab89-44ed8c5cb3b6"
      },
      "execution_count": 11,
      "outputs": [
        {
          "output_type": "stream",
          "name": "stderr",
          "text": [
            "[nltk_data] Downloading package punkt_tab to /root/nltk_data...\n",
            "[nltk_data]   Package punkt_tab is already up-to-date!\n",
            "[nltk_data] Downloading package stopwords to /root/nltk_data...\n",
            "[nltk_data]   Package stopwords is already up-to-date!\n"
          ]
        },
        {
          "output_type": "execute_result",
          "data": {
            "text/plain": [
              "True"
            ]
          },
          "metadata": {},
          "execution_count": 11
        }
      ]
    },
    {
      "cell_type": "code",
      "source": [
        "def lemmatize(text):\n",
        "  morph = pymorphy3.MorphAnalyzer()\n",
        "  tokens = word_tokenize(text)\n",
        "  return [morph.parse(word)[0].normal_form for word in tokens if not word in set(stopwords.words(\"russian\"))]\n",
        "\n",
        "\n",
        "text = \"Мальчики играли, в футбол на улице.\"\n",
        "\n",
        "\n",
        "\n",
        "\n",
        "print(re.sub(\"[^\\w\\s]\", \"\",\" \".join(lemmatize(text))))"
      ],
      "metadata": {
        "colab": {
          "base_uri": "https://localhost:8080/"
        },
        "id": "Ajj2UGbdmvNz",
        "outputId": "d2ecee7f-c8a6-42bc-e6f6-477e485ec222"
      },
      "execution_count": 19,
      "outputs": [
        {
          "output_type": "stream",
          "name": "stdout",
          "text": [
            "мальчик играть  футбол улица \n"
          ]
        }
      ]
    },
    {
      "cell_type": "code",
      "source": [
        "def tokenize(text):\n",
        "  tokens = word_tokenize(text)\n",
        "  return tokens\n",
        "\n",
        "text = [\"Вечером город наполняется огнями, люди спешат домой после работы. Дети играют во дворе, собаки лают, прохожие беседуют. Ветер колышет листья, обещая скорую осень.\",\n",
        "\t\"На кухне пахнет свежеиспечённым хлебом. Бабушка режет тёплую буханку, подаёт внукам с маслом и мёдом. За окном идёт дождь, но в доме уютно.\",\n",
        "\t\"В старом парке тихо. Пожилые люди сидят на скамейках, читают газеты. Молодёжь гуляет с наушниками, смеётся. Голуби клюют крошки, дети с радостью их подкармливают.\",\n",
        "\t\"Море лениво накатывает волны на песок. Рыбак забрасывает удочку, надеясь на удачный улов. Солнце клонится к горизонту, окрашивая небо в розовые и золотые оттенки.\",\n",
        "\t\"Ночной город живёт своей жизнью. Фонари освещают улицы, машины проезжают мимо. В кафе звучит джаз, бариста готовит кофе. Кто-то мечтает, кто-то спешит, а кто-то наблюдает.\"]\n",
        "\n",
        "# text = [\"Мама мыла раму.\",\n",
        "# \t\"Мама ела кашу.\",\n",
        "# \t\"Папа делал ремонт.\"]\n",
        "\n",
        "#Лемматизация + удаление стоп-слов + удаление пунктуации\n",
        "lemm_text = [tokenize(re.sub(\"[^\\w\\s]\", \"\",\" \".join(lemmatize(t)))) for t in text]\n",
        "print(lemm_text)\n"
      ],
      "metadata": {
        "colab": {
          "base_uri": "https://localhost:8080/"
        },
        "id": "EB01JHormzXO",
        "outputId": "aa085627-131f-4e53-a075-5c047d390271"
      },
      "execution_count": 55,
      "outputs": [
        {
          "output_type": "stream",
          "name": "stdout",
          "text": [
            "[['вечером', 'город', 'наполняться', 'огонь', 'человек', 'спешить', 'домой', 'работа', 'ребёнок', 'играть', 'двор', 'собака', 'лаять', 'прохожий', 'беседовать', 'ветер', 'колыхать', 'лист', 'обещать', 'скорый', 'осень'], ['на', 'кухня', 'пахнуть', 'свежеиспечённый', 'хлеб', 'бабушка', 'резать', 'тёплый', 'буханка', 'подавать', 'внук', 'масло', 'мёд', 'за', 'окно', 'идти', 'дождь', 'дом', 'уютный'], ['в', 'старый', 'парка', 'тихо', 'пожилой', 'человек', 'сидеть', 'скамейка', 'читать', 'газета', 'молодёжь', 'гулять', 'наушник', 'смеяться', 'голубь', 'клевать', 'крошка', 'ребёнок', 'радость', 'подкармливать'], ['море', 'лениво', 'накатывать', 'волна', 'песок', 'рыбак', 'забрасывать', 'удочка', 'надеяться', 'удачный', 'улов', 'солнце', 'клониться', 'горизонт', 'окрашивать', 'небо', 'розовый', 'золотой', 'оттенок'], ['ночной', 'город', 'жить', 'свой', 'жизнь', 'фонарь', 'освещать', 'улица', 'машина', 'проезжать', 'мимо', 'в', 'кафе', 'звучать', 'джаз', 'барист', 'готовить', 'кофе', 'ктото', 'мечтать', 'ктото', 'спешить', 'ктото', 'наблюдать']]\n"
          ]
        }
      ]
    },
    {
      "cell_type": "code",
      "source": [
        "#Уникальные слова\n",
        "res = [item for sublist in lemm_text for item in sublist]\n",
        "print(set(res))\n",
        "\n",
        "#Подсчет для каждого текста кол-во встреч. слов\n",
        "def word_frequency_matrix(texts, unique_words):\n",
        "    word_index = {word: i for i, word in enumerate(unique_words)}\n",
        "\n",
        "    matrix = []\n",
        "    for text in texts:\n",
        "      row = [0] * len(unique_words)\n",
        "      for word in text:\n",
        "          row[word_index[word]] += 1\n",
        "      matrix.append(row)\n",
        "\n",
        "    return matrix\n",
        "\n",
        "matrix = word_frequency_matrix(lemm_text, set(res))"
      ],
      "metadata": {
        "colab": {
          "base_uri": "https://localhost:8080/"
        },
        "id": "nnjzNiQ_-Efp",
        "outputId": "0975a980-dcaa-424d-d205-6ed1c0aebbda"
      },
      "execution_count": 56,
      "outputs": [
        {
          "output_type": "stream",
          "name": "stdout",
          "text": [
            "{'клевать', 'солнце', 'идти', 'небо', 'волна', 'лист', 'беседовать', 'колыхать', 'гулять', 'обещать', 'дом', 'накатывать', 'масло', 'мечтать', 'машина', 'собака', 'скорый', 'горизонт', 'кухня', 'мёд', 'лениво', 'играть', 'жить', 'осень', 'розовый', 'спешить', 'наушник', 'удочка', 'ночной', 'домой', 'пахнуть', 'пожилой', 'подкармливать', 'кафе', 'скамейка', 'двор', 'внук', 'за', 'старый', 'человек', 'улица', 'парка', 'улов', 'жизнь', 'море', 'лаять', 'голубь', 'освещать', 'радость', 'звучать', 'готовить', 'газета', 'наблюдать', 'в', 'тихо', 'на', 'хлеб', 'читать', 'бабушка', 'сидеть', 'надеяться', 'крошка', 'рыбак', 'тёплый', 'резать', 'дождь', 'ребёнок', 'окрашивать', 'смеяться', 'ктото', 'вечером', 'свой', 'прохожий', 'барист', 'наполняться', 'окно', 'песок', 'оттенок', 'джаз', 'подавать', 'молодёжь', 'клониться', 'уютный', 'проезжать', 'кофе', 'мимо', 'забрасывать', 'работа', 'город', 'удачный', 'золотой', 'огонь', 'ветер', 'фонарь', 'свежеиспечённый', 'буханка'}\n"
          ]
        }
      ]
    },
    {
      "cell_type": "code",
      "source": [
        "#Транспонирование матрицы для удобного подсчета \"ненулей\" в строке(IDF)\n",
        "transposed = [list(col) for col in zip(*matrix)]\n",
        "non_zero_counts = [sum(1 for num in row if num != 0) for row in transposed]\n",
        "\n",
        "#TF-IDF\n",
        "def tf_idf(texts, matrix, non_zero, unique_words):\n",
        "    word_index = {word: i for i, word in enumerate(unique_words)}\n",
        "    tf_matrix = []\n",
        "\n",
        "    for i, text in enumerate(texts):\n",
        "        l = len(text) if len(text) > 0 else 1\n",
        "        row = [0] * len(unique_words)\n",
        "        for word in text:\n",
        "            row[word_index[word]] = (matrix[i][word_index[word]] / l) * non_zero [word_index[word]]\n",
        "        tf_matrix.append(row)\n",
        "\n",
        "    return tf_matrix\n",
        "\n",
        "matrix1 = tf_idf(lemm_text, matrix, non_zero_counts, set(res))\n",
        "for row in matrix1:\n",
        "    print(row)"
      ],
      "metadata": {
        "colab": {
          "base_uri": "https://localhost:8080/"
        },
        "id": "nn4D2r1H-I7j",
        "outputId": "da620b98-e367-42b7-ba07-05bfbc6c17e1"
      },
      "execution_count": 57,
      "outputs": [
        {
          "output_type": "stream",
          "name": "stdout",
          "text": [
            "[0, 0, 0, 0, 0, 0.047619047619047616, 0.047619047619047616, 0.047619047619047616, 0, 0.047619047619047616, 0, 0, 0, 0, 0, 0.047619047619047616, 0.047619047619047616, 0, 0, 0, 0, 0.047619047619047616, 0, 0.047619047619047616, 0, 0.09523809523809523, 0, 0, 0, 0.047619047619047616, 0, 0, 0, 0, 0, 0.047619047619047616, 0, 0, 0, 0.09523809523809523, 0, 0, 0, 0, 0, 0.047619047619047616, 0, 0, 0, 0, 0, 0, 0, 0, 0, 0, 0, 0, 0, 0, 0, 0, 0, 0, 0, 0, 0.09523809523809523, 0, 0, 0, 0.047619047619047616, 0, 0.047619047619047616, 0, 0.047619047619047616, 0, 0, 0, 0, 0, 0, 0, 0, 0, 0, 0, 0, 0.047619047619047616, 0.09523809523809523, 0, 0, 0.047619047619047616, 0.047619047619047616, 0, 0, 0]\n",
            "[0, 0, 0.05263157894736842, 0, 0, 0, 0, 0, 0, 0, 0.05263157894736842, 0, 0.05263157894736842, 0, 0, 0, 0, 0, 0.05263157894736842, 0.05263157894736842, 0, 0, 0, 0, 0, 0, 0, 0, 0, 0, 0.05263157894736842, 0, 0, 0, 0, 0, 0.05263157894736842, 0.05263157894736842, 0, 0, 0, 0, 0, 0, 0, 0, 0, 0, 0, 0, 0, 0, 0, 0, 0, 0.05263157894736842, 0.05263157894736842, 0, 0.05263157894736842, 0, 0, 0, 0, 0.05263157894736842, 0.05263157894736842, 0.05263157894736842, 0, 0, 0, 0, 0, 0, 0, 0, 0, 0.05263157894736842, 0, 0, 0, 0.05263157894736842, 0, 0, 0.05263157894736842, 0, 0, 0, 0, 0, 0, 0, 0, 0, 0, 0, 0.05263157894736842, 0.05263157894736842]\n",
            "[0.05, 0, 0, 0, 0, 0, 0, 0, 0.05, 0, 0, 0, 0, 0, 0, 0, 0, 0, 0, 0, 0, 0, 0, 0, 0, 0, 0.05, 0, 0, 0, 0, 0.05, 0.05, 0, 0.05, 0, 0, 0, 0.05, 0.1, 0, 0.05, 0, 0, 0, 0, 0.05, 0, 0.05, 0, 0, 0.05, 0, 0.1, 0.05, 0, 0, 0.05, 0, 0.05, 0, 0.05, 0, 0, 0, 0, 0.1, 0, 0.05, 0, 0, 0, 0, 0, 0, 0, 0, 0, 0, 0, 0.05, 0, 0, 0, 0, 0, 0, 0, 0, 0, 0, 0, 0, 0, 0, 0]\n",
            "[0, 0.05263157894736842, 0, 0.05263157894736842, 0.05263157894736842, 0, 0, 0, 0, 0, 0, 0.05263157894736842, 0, 0, 0, 0, 0, 0.05263157894736842, 0, 0, 0.05263157894736842, 0, 0, 0, 0.05263157894736842, 0, 0, 0.05263157894736842, 0, 0, 0, 0, 0, 0, 0, 0, 0, 0, 0, 0, 0, 0, 0.05263157894736842, 0, 0.05263157894736842, 0, 0, 0, 0, 0, 0, 0, 0, 0, 0, 0, 0, 0, 0, 0, 0.05263157894736842, 0, 0.05263157894736842, 0, 0, 0, 0, 0.05263157894736842, 0, 0, 0, 0, 0, 0, 0, 0, 0.05263157894736842, 0.05263157894736842, 0, 0, 0, 0.05263157894736842, 0, 0, 0, 0, 0.05263157894736842, 0, 0, 0.05263157894736842, 0.05263157894736842, 0, 0, 0, 0, 0]\n",
            "[0, 0, 0, 0, 0, 0, 0, 0, 0, 0, 0, 0, 0, 0.041666666666666664, 0.041666666666666664, 0, 0, 0, 0, 0, 0, 0, 0.041666666666666664, 0, 0, 0.08333333333333333, 0, 0, 0.041666666666666664, 0, 0, 0, 0, 0.041666666666666664, 0, 0, 0, 0, 0, 0, 0.041666666666666664, 0, 0, 0.041666666666666664, 0, 0, 0, 0.041666666666666664, 0, 0.041666666666666664, 0.041666666666666664, 0, 0.041666666666666664, 0.08333333333333333, 0, 0, 0, 0, 0, 0, 0, 0, 0, 0, 0, 0, 0, 0, 0, 0.125, 0, 0.041666666666666664, 0, 0.041666666666666664, 0, 0, 0, 0, 0.041666666666666664, 0, 0, 0, 0, 0.041666666666666664, 0.041666666666666664, 0.041666666666666664, 0, 0, 0.08333333333333333, 0, 0, 0, 0, 0.041666666666666664, 0, 0]\n"
          ]
        }
      ]
    }
  ]
}